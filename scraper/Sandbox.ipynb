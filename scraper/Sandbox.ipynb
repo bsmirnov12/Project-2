{
 "cells": [
  {
   "cell_type": "code",
   "execution_count": 1,
   "metadata": {},
   "outputs": [],
   "source": [
    "# Scraping related imports\n",
    "from bs4 import BeautifulSoup\n",
    "import requests\n",
    "import json\n",
    "import re\n",
    "import time"
   ]
  },
  {
   "cell_type": "code",
   "execution_count": 2,
   "metadata": {},
   "outputs": [],
   "source": [
    "# Funcion parses Genre info\n",
    "genre_template = re.compile(r\"[\\w][-&/ \\w]*\")\n",
    "\n",
    "def parse_genre(td):\n",
    "    for s in td.strings:\n",
    "        g = genre_template.match(s)\n",
    "        if g: return g[0]\n",
    "    return None"
   ]
  },
  {
   "cell_type": "code",
   "execution_count": 15,
   "metadata": {},
   "outputs": [],
   "source": [
    "# Funcion parses Origin info\n",
    "origin_template = re.compile(r\"[\\w, ]\")\n",
    "\n",
    "def parse_origin(td):\n",
    "    origin = \"\"\n",
    "    for s in td.strings:\n",
    "        if origin_template.match(s):\n",
    "            origin += s\n",
    "    if len(origin):\n",
    "        return origin\n",
    "    else:\n",
    "        return None"
   ]
  },
  {
   "cell_type": "code",
   "execution_count": 5,
   "metadata": {},
   "outputs": [],
   "source": [
    "# Funcion parses Birth info (date and place)\n",
    "def parse_born(td):\n",
    "    # Handle birth date\n",
    "    bday = None\n",
    "    span = td.find('span', class_='bday')\n",
    "    if span:\n",
    "        bday = str(span.string)\n",
    "\n",
    "    # Handle Birth place\n",
    "    bplace = \"\"\n",
    "    td_brs = td.find_all('br') # May be 2 <br> - 1st after birth name,\n",
    "    if td_brs:                 # 2nd after birth date. Birth name may be missing, so only 1 <br> is possible\n",
    "        td_br = td_brs[-1]     # We look for the last <br>\n",
    "    else:\n",
    "        td_br = None\n",
    "        \n",
    "    if td_br and td_br.next_siblings:\n",
    "        for sib in td_br.next_siblings:\n",
    "            try:\n",
    "                for s in sib.strings:\n",
    "                    if origin_template.match(s):\n",
    "                        bplace += s\n",
    "            except:\n",
    "                if origin_template.match(sib):\n",
    "                    bplace += sib\n",
    "\n",
    "    if len(bplace) == 0:\n",
    "        bplace = None # We need NULL in the table, and \"\" isn't NULL, only None is NULL\n",
    "    \n",
    "    return bday, bplace"
   ]
  },
  {
   "cell_type": "code",
   "execution_count": 6,
   "metadata": {},
   "outputs": [],
   "source": [
    "session = requests.Session()"
   ]
  },
  {
   "cell_type": "code",
   "execution_count": 13,
   "metadata": {},
   "outputs": [],
   "source": [
    "url = 'https://en.wikipedia.org/wiki/Original_Concept'\n",
    "response = session.get(url)\n",
    "soup = BeautifulSoup(response.text, 'lxml')\n",
    "artist_table=soup.find('table', class_='infobox')"
   ]
  },
  {
   "cell_type": "code",
   "execution_count": 18,
   "metadata": {},
   "outputs": [
    {
     "name": "stdout",
     "output_type": "stream",
     "text": [
      "<th scope=\"row\">Origin</th>\n",
      "<td><a class=\"mw-redirect\" href=\"/wiki/Long_Island,_New_York\" title=\"Long Island, New York\">Long Island, New York</a>, United States</td>\n",
      "<td><a class=\"mw-redirect\" href=\"/wiki/Long_Island,_New_York\" title=\"Long Island, New York\">Long Island, New York</a>, United States</td>\n",
      "Origin: Long Island, New York, United States\n",
      "Genre: Hip hop\n",
      "is_band=0\n"
     ]
    }
   ],
   "source": [
    "headers = artist_table.find_all('th')\n",
    "td = None\n",
    "is_band = None\n",
    "for th in headers:\n",
    "    if re.match(\"Genre\", str(th.string), re.I):\n",
    "        genre = parse_genre(th.next_sibling)\n",
    "        print(\"Genre:\", genre)\n",
    "        is_band = 0\n",
    "    elif re.match(\"Born\", str(th.string), re.I):\n",
    "        dob, pob = parse_born(th.next_sibling)\n",
    "        print(\"DOB:\", dob, \" POB:\", pob)\n",
    "        if dob: is_band = 0\n",
    "    elif re.match(\"Origin$\", str(th.string), re.I):\n",
    "        origin = parse_origin(th.next_sibling)\n",
    "        print(\"Origin:\", origin)\n",
    "    elif re.match(\"Member\", str(th.string), re.I):\n",
    "        print(\"is band\")\n",
    "        is_band = 1\n",
    "print(f\"is_band={is_band}\")"
   ]
  },
  {
   "cell_type": "code",
   "execution_count": null,
   "metadata": {},
   "outputs": [],
   "source": []
  }
 ],
 "metadata": {
  "kernelspec": {
   "display_name": "Python [conda env:.conda-PythonData] *",
   "language": "python",
   "name": "conda-env-.conda-PythonData-py"
  },
  "language_info": {
   "codemirror_mode": {
    "name": "ipython",
    "version": 3
   },
   "file_extension": ".py",
   "mimetype": "text/x-python",
   "name": "python",
   "nbconvert_exporter": "python",
   "pygments_lexer": "ipython3",
   "version": "3.6.10"
  }
 },
 "nbformat": 4,
 "nbformat_minor": 4
}
