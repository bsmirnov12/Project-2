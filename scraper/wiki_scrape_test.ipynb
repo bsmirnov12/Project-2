{
 "cells": [
  {
   "cell_type": "code",
   "execution_count": 1,
   "metadata": {},
   "outputs": [],
   "source": [
    "# Independant instructions to scrape wikipedia for artist information\n",
    "# Search based on artist/band name -- wiki link\n",
    "from bs4 import BeautifulSoup\n",
    "import requests\n",
    "import pandas as pd"
   ]
  },
  {
   "cell_type": "code",
   "execution_count": 142,
   "metadata": {},
   "outputs": [],
   "source": [
    "url= \"https://en.wikipedia.org/wiki/The_Black_Eyed_Peas\""
   ]
  },
  {
   "cell_type": "code",
   "execution_count": 143,
   "metadata": {},
   "outputs": [],
   "source": [
    "# ---------------------------------\n",
    "# Step 1: Get Info Table\n",
    "req = requests.get(url)\n",
    "soup = BeautifulSoup(req.content, 'html.parser')\n",
    "artist_table=soup.find('table', class_='infobox')\n",
    "# artist_table"
   ]
  },
  {
   "cell_type": "code",
   "execution_count": 144,
   "metadata": {},
   "outputs": [
    {
     "name": "stdout",
     "output_type": "stream",
     "text": [
      "https://upload.wikimedia.org/wikipedia/commons/thumb/0/0a/Black_Eyed_Peas_performing_at_O2_Apollo_Manchester_Nov2018.jpeg/300px-Black_Eyed_Peas_performing_at_O2_Apollo_Manchester_Nov2018.jpeg\n"
     ]
    }
   ],
   "source": [
    "table_img=artist_table.find('img')['src']\n",
    "image_src= 'https:'+ table_img\n",
    "print(image_src)"
   ]
  },
  {
   "cell_type": "code",
   "execution_count": 147,
   "metadata": {},
   "outputs": [],
   "source": [
    "band_dict= {'Origin':'null', \n",
    "             'Genres':'null'\n",
    "             }\n",
    "artist_dict= { \n",
    "             'Genres':'null',\n",
    "            'Born':'null',\n",
    "             }"
   ]
  },
  {
   "cell_type": "code",
   "execution_count": 148,
   "metadata": {},
   "outputs": [
    {
     "name": "stdout",
     "output_type": "stream",
     "text": [
      "Band---\n",
      "{'Origin': 'Los Angeles', 'Genres': 'Pop', 'img': 'https://upload.wikimedia.org/wikipedia/commons/thumb/0/0a/Black_Eyed_Peas_performing_at_O2_Apollo_Manchester_Nov2018.jpeg/300px-Black_Eyed_Peas_performing_at_O2_Apollo_Manchester_Nov2018.jpeg', 'is_band': 1}\n"
     ]
    }
   ],
   "source": [
    "# If statement to differentiate bands/artist:\n",
    "if artist_table.find(text = \"Members\"):\n",
    "    print('Band---')\n",
    "    \n",
    "    for item in band_dict:\n",
    "        row_text=artist_table.tr.find_next('th', string=item, scope='row').find_next('td').find_next('a').text\n",
    "        band_dict.update({item: row_text})\n",
    "    \n",
    "    \n",
    "    band_dict.update({'img':image_src,'is_band':1})\n",
    "    print(band_dict)\n",
    "    \n",
    "else:\n",
    "    print('Artist---')\n",
    "    for item in artist_dict:\n",
    "        \n",
    "        row_text=artist_table.tr.find_next('th', string=item, scope='row').find_next('td').find_next('a').text\n",
    "        artist_dict.update({item: row_text})\n",
    "    \n",
    "    bday= artist_table.tr.find_next(class_='bday').text\n",
    "\n",
    "    artist_dict.update({'img':image_src, 'is_band':0, 'DOB':bday})\n",
    "    print(artist_dict)"
   ]
  },
  {
   "cell_type": "code",
   "execution_count": null,
   "metadata": {},
   "outputs": [],
   "source": []
  }
 ],
 "metadata": {
  "kernelspec": {
   "display_name": "Python 3",
   "language": "python",
   "name": "python3"
  },
  "language_info": {
   "codemirror_mode": {
    "name": "ipython",
    "version": 3
   },
   "file_extension": ".py",
   "mimetype": "text/x-python",
   "name": "python",
   "nbconvert_exporter": "python",
   "pygments_lexer": "ipython3",
   "version": "3.7.4"
  }
 },
 "nbformat": 4,
 "nbformat_minor": 2
}
