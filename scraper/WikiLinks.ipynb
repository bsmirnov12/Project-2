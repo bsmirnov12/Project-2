{
 "cells": [
  {
   "cell_type": "code",
   "execution_count": 1,
   "metadata": {},
   "outputs": [],
   "source": [
    "# UT-TOR-DATA-PT-01-2020-U-C Group Project 2\n",
    "# Find as many artist wiki pages as possible\n",
    "# Use Artist table for list of artists, save detected Wikipedia page links in Wikilinks table"
   ]
  },
  {
   "cell_type": "markdown",
   "metadata": {},
   "source": [
    "## Imports"
   ]
  },
  {
   "cell_type": "code",
   "execution_count": 2,
   "metadata": {},
   "outputs": [],
   "source": [
    "# SQLite Database related imports\n",
    "import sqlalchemy\n",
    "from sqlalchemy.engine import Engine\n",
    "from sqlalchemy.ext.automap import automap_base\n",
    "from sqlalchemy.orm import Session\n",
    "from sqlalchemy import create_engine, event, inspect"
   ]
  },
  {
   "cell_type": "code",
   "execution_count": 3,
   "metadata": {},
   "outputs": [],
   "source": [
    "# Scraping related imports\n",
    "from bs4 import BeautifulSoup\n",
    "import requests"
   ]
  },
  {
   "cell_type": "code",
   "execution_count": 4,
   "metadata": {},
   "outputs": [],
   "source": [
    "import time"
   ]
  },
  {
   "cell_type": "markdown",
   "metadata": {},
   "source": [
    "## Initializations\n",
    "\n",
    "### DB access initialization"
   ]
  },
  {
   "cell_type": "code",
   "execution_count": null,
   "metadata": {},
   "outputs": [],
   "source": [
    "# Turn on PRAGMA foreign_keys to enforce foregn key constraints (it is disabled by default in SQLite)\n",
    "@event.listens_for(Engine, \"connect\")\n",
    "def set_sqlite_pragma(dbapi_connection, connection_record):\n",
    "    cursor = dbapi_connection.cursor()\n",
    "    cursor.execute(\"PRAGMA foreign_keys=ON\")\n",
    "    cursor.close()\n",
    "\n",
    "# Create engine to access the database\n",
    "engine = create_engine(\"sqlite:///../data/CanadaTop100.sqlite\")\n",
    "\n",
    "# Reflect an existing database into a new model\n",
    "AutomapBase = automap_base()\n",
    "\n",
    "# Reflect the tables\n",
    "AutomapBase.prepare(engine, reflect=True)\n",
    "\n",
    "# Save references to each table\n",
    "Artist = AutomapBase.classes.Artist\n",
    "WikiLinks = AutomapBase.classes.WikiLinks\n",
    "\n",
    "# Create our session (link) from Python to the DB\n",
    "session = Session(engine)\n",
    "\n",
    "# Debug output\n",
    "#AutomapBase.classes.items()\n",
    "list(inspect(Artist).columns)"
   ]
  },
  {
   "cell_type": "markdown",
   "metadata": {},
   "source": [
    "## Helper functions"
   ]
  },
  {
   "cell_type": "code",
   "execution_count": 6,
   "metadata": {},
   "outputs": [],
   "source": [
    "# Tries to detect if a page is about a musician or a band\n",
    "# Returns True if the page is detected as about a musician or a band\n",
    "def check_url(url):\n",
    "    time.sleep(1.5)\n",
    "    response = requests.get(url)\n",
    "    soup = BeautifulSoup(response.text, 'lxml')\n",
    "    infobox = soup.find('table', class_=\"vcard\")\n",
    "    if not infobox:\n",
    "        return False\n",
    "    \n",
    "    genres = infobox.tbody.find('th', string='Genres', scope='row')\n",
    "    return genres is not None\n"
   ]
  },
  {
   "cell_type": "markdown",
   "metadata": {},
   "source": [
    "## Page Search"
   ]
  },
  {
   "cell_type": "code",
   "execution_count": 14,
   "metadata": {},
   "outputs": [],
   "source": [
    "# Select all artists and loop through them trying to find Wikipedia page\n",
    "checked_ids = session.query(WikiLinks.artist_id)\n",
    "\n",
    "artists = session.query(Artist.id, Artist.name).\\\n",
    "    filter(Artist.id.notin_(checked_ids)).\\\n",
    "    order_by(Artist.id).\\\n",
    "    all()\n",
    "\n",
    "# Suffixes\n",
    "suffixes = ['', '_(musician)', '_(band)', '_(rapper)']"
   ]
  },
  {
   "cell_type": "code",
   "execution_count": null,
   "metadata": {},
   "outputs": [],
   "source": [
    "for artist_res in artists:\n",
    "    artist_dct = artist_res._asdict()\n",
    "\n",
    "    # Prepare the name for URL usage\n",
    "    name = artist_dct['name'].replace(' ', '_')\n",
    "    artist_id = artist_dct['id']\n",
    "    print(artist_id, end=\"\")\n",
    "    \n",
    "    # Try different variants of article names\n",
    "    found_url = False\n",
    "    for sfx in suffixes:\n",
    "        url = 'https://en.wikipedia.org/wiki/' + name + sfx\n",
    "        found_url = check_url(url)\n",
    "        if found_url:\n",
    "            print(\"+ \", end=\"\")\n",
    "            break\n",
    "\n",
    "    if not found_url:\n",
    "        print(\"- \", end=\"\")\n",
    "        url = None\n",
    "    \n",
    "    # Save the result\n",
    "    session.add(WikiLinks(artist_id=artist_id, url=url))\n",
    "    session.commit()\n",
    "\n",
    "print(\"\\nDone\")"
   ]
  },
  {
   "cell_type": "code",
   "execution_count": 22,
   "metadata": {},
   "outputs": [],
   "source": [
    "# Second take\n",
    "# Suffixes\n",
    "suffixes = ['_(rapper)']\n",
    "\n",
    "# Select all artists and loop through them trying to find Wikipedia page\n",
    "undetected = session.query(WikiLinks.artist_id).filter(WikiLinks.url == None)\n",
    "\n",
    "artists = session.query(Artist.id, Artist.name).\\\n",
    "    filter(Artist.id.in_(undetected)).\\\n",
    "    order_by(Artist.id).\\\n",
    "    all()"
   ]
  },
  {
   "cell_type": "code",
   "execution_count": null,
   "metadata": {},
   "outputs": [],
   "source": [
    "for artist_res in artists:\n",
    "    artist_dct = artist_res._asdict()\n",
    "\n",
    "    # Prepare the name for URL usage\n",
    "    name = artist_dct['name'].replace(' ', '_')\n",
    "    artist_id = artist_dct['id']\n",
    "    print(artist_id, end=\"\")\n",
    "    \n",
    "    # Try different variants of article names\n",
    "    found_url = False\n",
    "    for sfx in suffixes:\n",
    "        url = 'https://en.wikipedia.org/wiki/' + name + sfx\n",
    "        found_url = check_url(url)\n",
    "        if found_url:\n",
    "            print(\"+ \", end=\"\")\n",
    "            break\n",
    "\n",
    "    if not found_url:\n",
    "        print(\"- \", end=\"\")\n",
    "        url = None\n",
    "    \n",
    "    # Save the result\n",
    "    session.query(WikiLinks).\\\n",
    "        filter(WikiLinks.artist_id == artist_id).\\\n",
    "        update({ \"url\" : url })\n",
    "    session.commit()\n",
    "\n",
    "print(\"\\nDone\")"
   ]
  },
  {
   "cell_type": "code",
   "execution_count": null,
   "metadata": {},
   "outputs": [],
   "source": []
  }
 ],
 "metadata": {
  "kernelspec": {
   "display_name": "Python [conda env:.conda-PythonData] *",
   "language": "python",
   "name": "conda-env-.conda-PythonData-py"
  },
  "language_info": {
   "codemirror_mode": {
    "name": "ipython",
    "version": 3
   },
   "file_extension": ".py",
   "mimetype": "text/x-python",
   "name": "python",
   "nbconvert_exporter": "python",
   "pygments_lexer": "ipython3",
   "version": "3.6.10"
  }
 },
 "nbformat": 4,
 "nbformat_minor": 4
}
